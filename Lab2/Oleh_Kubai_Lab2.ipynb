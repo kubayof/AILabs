{
 "cells": [
  {
   "cell_type": "code",
   "execution_count": 31,
   "id": "5b1d4e30-ec3c-4df0-9480-5334a888ab97",
   "metadata": {},
   "outputs": [],
   "source": [
    "import random\n",
    "import bisect\n",
    "import numpy as np\n",
    "import matplotlib.pyplot as plt"
   ]
  },
  {
   "cell_type": "code",
   "execution_count": 76,
   "id": "ae330522-18da-49ca-b240-ccab0b0ee8f6",
   "metadata": {},
   "outputs": [],
   "source": [
    "# Constants\n",
    "a = 1 # Influence of pheromone\n",
    "b = 3 # Influence of heuristics\n",
    "p = 0.5 # Evaporation probability\n",
    "iterations = 100\n",
    "Q = 0.0001 # Constant for pheromone updates\n",
    "ant_count = 400 # Count of ants\n",
    "graphs = { # Map of (file name -> target node), source node is 0 for all\n",
    "    'yuzSHP55.aco': 55,\n",
    "    'yuzSHP95.aco': 95,\n",
    "    'yuzSHP155.aco': 155\n",
    "}"
   ]
  },
  {
   "cell_type": "code",
   "execution_count": 77,
   "id": "b56d5b09-c1b0-4190-ad6e-250bb52a8047",
   "metadata": {},
   "outputs": [],
   "source": [
    "# Calculates probabilities of transitioning ant to nodes\n",
    "def calculate_transition_probabilities(ant, nodes, pheromones):\n",
    "        probabilities = []\n",
    "        expr_sum = 0\n",
    "        for j in range(len(nodes)):\n",
    "            if (j not in ant) and nodes[ant[-1]][j] != 0:\n",
    "                expr = pow((pheromones[ant[-1]][j]), a) * pow(1 / (nodes[ant[-1]][j]), b)\n",
    "                expr_sum += expr\n",
    "                probabilities.append(expr)\n",
    "            else:\n",
    "                probabilities.append(0)\n",
    "        for j in range(len(nodes)):\n",
    "            probabilities[j] /= expr_sum\n",
    "        return probabilities\n",
    "    \n",
    "# Selects random index taking into account specified probabilities\n",
    "def random_index(probabilities):\n",
    "    values = probabilities[:]\n",
    "    for i in range(1, len(values)):\n",
    "        values[i] += values[i-1]\n",
    "    random_value = random.uniform(0, sum(probabilities))\n",
    "    return bisect.bisect_left(values, random_value)\n",
    "\n",
    "\n",
    "def calculate_min_path(nodes, source_node, target_node):\n",
    "    # Init pheromones\n",
    "    pheromones = [[0.001 for i in range(len(nodes))] for j in range(len(nodes))]\n",
    "    # Initialize ants, each ant keeps complete path\n",
    "    ants = {key: [source_node] for key in range(ant_count)}\n",
    "    # Minimal length, set to impossible value (-1)\n",
    "    min_length = -1\n",
    "    # Path to achieve minimal length\n",
    "    min_path = None\n",
    "    \n",
    "    flag_global = 1\n",
    "    global_min_length = -1\n",
    "    for i in range(ant_count):\n",
    "        path_length = 0\n",
    "        # Keep adding nodes unless target node is reached\n",
    "        while ants[i][-1] != target_node:\n",
    "            # Calculate transition pobabilities for current ant\n",
    "            probabilities = calculate_transition_probabilities(ants[i], nodes, pheromones)\n",
    "            # Select random index according to probabilities\n",
    "            selected_index = random_index(probabilities)\n",
    "            # In\n",
    "            path_length += nodes[ants[i][-1]][selected_index]\n",
    "            # Add \n",
    "            ants[i].append(selected_index)\n",
    "\n",
    "        # In case the ant found a better solution - update\n",
    "        if min_length == -1 or path_length < min_length:\n",
    "            min_length = path_length\n",
    "            min_path = ants[i][:]\n",
    "         \n",
    "        # Update pheromones\n",
    "        delta_t = Q / min_length\n",
    "        for j in range(1, len(ants[i])):\n",
    "            pheromones[ants[i][j-1]][ants[i][j]] += delta_t\n",
    "            \n",
    "    \n",
    "        # Evaporate pheromones\n",
    "        for i in range(len(nodes)):\n",
    "            for j in range(len(nodes)):\n",
    "                pheromones[i][j] *= (1 - p)\n",
    "    return min_path, min_length\n",
    "        "
   ]
  },
  {
   "cell_type": "code",
   "execution_count": 80,
   "id": "5696fa41-c27c-45c6-9734-bebd8e801a53",
   "metadata": {},
   "outputs": [
    {
     "name": "stdout",
     "output_type": "stream",
     "text": [
      "Shortest path: [0, 1, 2, 54] Min length: 3\n",
      "Shortest path: [0, 1, 3, 5, 94] Min length: 12\n",
      "Shortest path: [0, 1, 3, 5, 7, 154] Min length: 5\n"
     ]
    }
   ],
   "source": [
    "for file_name in graphs:\n",
    "    nodes = [[int(i) for i in line.split()] for line in open(file_name)]\n",
    "    min_path, min_length = calculate_min_path(nodes, source_node=0, target_node=len(nodes) - 1)\n",
    "    \n",
    "    print('Shortest path:', min_path, 'Min length:', min_length)"
   ]
  },
  {
   "cell_type": "code",
   "execution_count": null,
   "id": "815402d5-32f4-4de3-87b0-94224a6828c5",
   "metadata": {},
   "outputs": [],
   "source": []
  },
  {
   "cell_type": "code",
   "execution_count": null,
   "id": "f4940df9-3551-478c-a540-fd7fd868d0e4",
   "metadata": {},
   "outputs": [],
   "source": []
  }
 ],
 "metadata": {
  "kernelspec": {
   "display_name": "Python 3 (ipykernel)",
   "language": "python",
   "name": "python3"
  },
  "language_info": {
   "codemirror_mode": {
    "name": "ipython",
    "version": 3
   },
   "file_extension": ".py",
   "mimetype": "text/x-python",
   "name": "python",
   "nbconvert_exporter": "python",
   "pygments_lexer": "ipython3",
   "version": "3.9.13"
  }
 },
 "nbformat": 4,
 "nbformat_minor": 5
}
