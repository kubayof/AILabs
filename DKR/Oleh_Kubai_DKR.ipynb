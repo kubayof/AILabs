{
 "cells": [
  {
   "cell_type": "code",
   "execution_count": 37,
   "id": "06afbbd5-ac0f-4f42-8bd8-699b70043641",
   "metadata": {},
   "outputs": [],
   "source": [
    "import numpy as np"
   ]
  },
  {
   "cell_type": "code",
   "execution_count": 48,
   "id": "521e4221-56e9-4764-9438-23234848e65b",
   "metadata": {},
   "outputs": [],
   "source": [
    "# Input data\n",
    "letters = {\n",
    " 'A': np.array([[ 1,  1,  1, -1,  1,  1,  1,\n",
    "                  1,  1, -1,  1, -1,  1,  1,\n",
    "                  1,  1, -1,  1, -1,  1,  1,\n",
    "                  1,  1, -1,  1, -1,  1,  1,\n",
    "                  1, -1, -1, -1, -1, -1,  1,\n",
    "                  1, -1,  1,  1,  1, -1,  1,\n",
    "                 -1,  1,  1,  1,  1,  1, -1,\n",
    "                 -1,  1,  1,  1,  1,  1, -1]]),\n",
    "    \n",
    " 'B': np.array([[ 1, -1, -1, -1,  1,  1,  1,\n",
    "                  1, -1,  1, -1,  1,  1,  1,\n",
    "                  1, -1,  1, -1,  1,  1,  1,\n",
    "                  1, -1, -1, -1, -1,  1,  1,\n",
    "                  1, -1,  1,  1, -1,  1,  1,\n",
    "                  1, -1,  1,  1, -1,  1,  1,\n",
    "                  1, -1,  1,  1, -1,  1,  1,\n",
    "                  1, -1, -1, -1, -1,  1,  1]]),\n",
    "    \n",
    " 'C': np.array([[ 1,  1, -1, -1, -1,  1,  1,\n",
    "                  1, -1,  1,  1,  1, -1,  1,\n",
    "                  1, -1,  1,  1,  1,  1,  1,\n",
    "                  1, -1,  1,  1,  1,  1,  1,\n",
    "                  1, -1,  1,  1,  1,  1,  1,\n",
    "                  1, -1,  1,  1,  1,  1,  1,\n",
    "                  1, -1,  1,  1,  1, -1,  1,\n",
    "                  1,  1, -1, -1, -1,  1,  1]]),\n",
    "    \n",
    " 'D': np.array([[ 1, -1, -1, -1,  1,  1,  1,\n",
    "                  1, -1,  1,  1, -1,  1,  1,\n",
    "                  1, -1,  1,  1, -1,  1,  1,\n",
    "                  1, -1,  1,  1, -1,  1,  1,\n",
    "                  1, -1,  1,  1, -1,  1,  1,\n",
    "                  1, -1,  1,  1, -1,  1,  1,\n",
    "                  1, -1,  1,  1, -1,  1,  1,\n",
    "                  1, -1, -1, -1,  1,  1,  1]]),\n",
    "    \n",
    " 'E': np.array([[ 1,  1, -1, -1, -1,  1,  1,\n",
    "                  1,  1, -1,  1,  1,  1,  1,\n",
    "                  1,  1, -1,  1,  1,  1,  1,\n",
    "                  1,  1, -1, -1, -1,  1,  1,\n",
    "                  1,  1, -1,  1,  1,  1,  1,\n",
    "                  1,  1, -1,  1,  1,  1,  1,\n",
    "                  1,  1, -1,  1,  1,  1,  1,\n",
    "                  1,  1, -1, -1, -1,  1,  1]]),\n",
    "    \n",
    " 'F': np.array([[ 1,  1, -1, -1, -1,  1,  1,\n",
    "                  1,  1, -1,  1,  1,  1,  1,\n",
    "                  1,  1, -1,  1,  1,  1,  1,\n",
    "                  1,  1, -1, -1, -1,  1,  1,\n",
    "                  1,  1, -1,  1,  1,  1,  1,\n",
    "                  1,  1, -1,  1,  1,  1,  1,\n",
    "                  1,  1, -1,  1,  1,  1,  1,\n",
    "                  1,  1, -1,  1,  1,  1,  1]]),\n",
    "\n",
    " 'G': np.array([[ 1,  1, -1, -1,  1,  1,  1,\n",
    "                  1, -1,  1,  1, -1,  1,  1,\n",
    "                  1, -1,  1,  1,  1,  1,  1,\n",
    "                  1, -1,  1,  1,  1,  1,  1,\n",
    "                  1, -1,  1,  1,  1,  1,  1,\n",
    "                  1, -1,  1,  1, -1,  1,  1,\n",
    "                  1, -1,  1,  1, -1,  1,  1,\n",
    "                  1,  1, -1, -1, -1,  1,  1]]),\n",
    "    \n",
    " 'H': np.array([[ 1, -1,  1,  1, -1,  1,  1,\n",
    "                  1, -1,  1,  1, -1,  1,  1,\n",
    "                  1, -1,  1,  1, -1,  1,  1,\n",
    "                  1, -1, -1, -1, -1,  1,  1,\n",
    "                  1, -1,  1,  1, -1,  1,  1,\n",
    "                  1, -1,  1,  1, -1,  1,  1,\n",
    "                  1, -1,  1,  1, -1,  1,  1,\n",
    "                  1, -1,  1,  1, -1,  1,  1]]),\n",
    "    \n",
    " 'I': np.array([[ 1,  1,  1, -1,  1,  1,  1,\n",
    "                  1,  1,  1,  1,  1,  1,  1,\n",
    "                  1,  1,  1, -1,  1,  1,  1,\n",
    "                  1,  1,  1, -1,  1,  1,  1,\n",
    "                  1,  1,  1, -1,  1,  1,  1,\n",
    "                  1,  1,  1, -1,  1,  1,  1,\n",
    "                  1,  1,  1, -1,  1,  1,  1,\n",
    "                  1,  1,  1, -1,  1,  1,  1]]),\n",
    "    \n",
    " 'K': np.array([[ 1, -1,  1,  1, -1,  1,  1,\n",
    "                  1, -1,  1, -1,  1,  1,  1,\n",
    "                  1, -1,  1, -1,  1,  1,  1,\n",
    "                  1, -1, -1,  1,  1,  1,  1,\n",
    "                  1, -1, -1,  1,  1,  1,  1,\n",
    "                  1, -1,  1, -1,  1,  1,  1,\n",
    "                  1, -1,  1, -1,  1,  1,  1,\n",
    "                  1, -1,  1,  1, -1,  1,  1]]),\n",
    "    \n",
    " 'L': np.array([[ 1, -1,  1,  1,  1,  1,  1,\n",
    "                  1, -1,  1,  1,  1,  1,  1,\n",
    "                  1, -1,  1,  1,  1,  1,  1,\n",
    "                  1, -1,  1,  1,  1,  1,  1,\n",
    "                  1, -1,  1,  1,  1,  1,  1,\n",
    "                  1, -1,  1,  1,  1,  1,  1,\n",
    "                  1, -1,  1,  1,  1,  1,  1,\n",
    "                  1, -1, -1, -1, -1,  1,  1]]),\n",
    "    \n",
    " 'T': np.array([[-1, -1, -1, -1 ,-1, -1, -1,\n",
    "                  1,  1,  1, -1,  1,  1,  1,\n",
    "                  1,  1,  1, -1,  1,  1,  1,\n",
    "                  1,  1,  1, -1,  1,  1,  1,\n",
    "                  1,  1,  1, -1,  1,  1,  1,\n",
    "                  1,  1,  1, -1,  1,  1,  1,\n",
    "                  1,  1,  1, -1,  1,  1,  1,\n",
    "                  1,  1,  1, -1,  1,  1,  1]])\n",
    "}"
   ]
  },
  {
   "cell_type": "code",
   "execution_count": 54,
   "id": "7591eb91-7231-4d74-a116-914a11038004",
   "metadata": {},
   "outputs": [
    {
     "data": {
      "text/plain": [
       "array([[ 0.        ,  0.16666667,  0.        , ..., -0.33333333,\n",
       "         0.83333333,  0.66666667],\n",
       "       [ 0.16666667,  0.        , -0.16666667, ...,  0.16666667,\n",
       "         0.        , -0.16666667],\n",
       "       [ 0.        , -0.16666667,  0.        , ...,  0.        ,\n",
       "        -0.16666667, -0.33333333],\n",
       "       ...,\n",
       "       [-0.33333333,  0.16666667,  0.        , ...,  0.        ,\n",
       "        -0.16666667, -0.33333333],\n",
       "       [ 0.83333333,  0.        , -0.16666667, ..., -0.16666667,\n",
       "         0.        ,  0.83333333],\n",
       "       [ 0.66666667, -0.16666667, -0.33333333, ..., -0.33333333,\n",
       "         0.83333333,  0.        ]])"
      ]
     },
     "execution_count": 54,
     "metadata": {},
     "output_type": "execute_result"
    }
   ],
   "source": [
    "input_size = 7 * 8\n",
    "\n",
    "# Calculate weights using input letters\n",
    "W = np.zeros((input_size, input_size), dtype=np.int32)\n",
    "for letter in letters.values():\n",
    "    W = W + np.matmul(letter.transpose(), letter)\n",
    "\n",
    "# Set diagonal elements to 0s\n",
    "for i in range(input_size):\n",
    "    W[i][i] = 0\n",
    "    \n",
    "W = W / len(letters)\n",
    "\n",
    "W"
   ]
  },
  {
   "cell_type": "code",
   "execution_count": 56,
   "id": "5eaea918-b0a8-44a2-8df9-c6f771afa1ba",
   "metadata": {},
   "outputs": [
    {
     "name": "stdout",
     "output_type": "stream",
     "text": [
      "5\n",
      "[[ 1 -1 -1 -1  1  1  1  1 -1  1  1  1  1  1  1 -1  1  1  1  1  1  1 -1  1\n",
      "   1  1  1  1  1 -1  1  1  1  1  1  1 -1  1  1  1  1  1  1 -1  1  1  1  1\n",
      "   1  1 -1 -1 -1 -1  1  1]]\n",
      "[[ 1  1  1 -1  1  1  1  1  1 -1  1 -1  1  1  1  1 -1  1 -1  1  1  1  1 -1\n",
      "   1 -1  1  1  1 -1 -1 -1 -1 -1  1  1 -1  1  1  1 -1  1 -1  1  1  1  1  1\n",
      "  -1 -1  1  1  1  1  1 -1]]\n"
     ]
    }
   ],
   "source": [
    "A = letters['A']\n",
    "\n",
    "max_iterations = 1_000_000\n",
    "iteration = 0\n",
    "previous_result = None\n",
    "result = A.transpose()\n",
    "\n",
    "while (iteration < max_iterations) and not ((previous_result is not None) and (np.array_equal(result, previous_result))):\n",
    "    previous_result = result\n",
    "    result = np.int32(np.sign(np.matmul(W, result)))\n",
    "    iteration += 1\n",
    "\n",
    "print(iteration)\n",
    "print(result.transpose())\n",
    "print(A)"
   ]
  },
  {
   "cell_type": "code",
   "execution_count": 19,
   "id": "683bb511-dbb8-40a8-a59d-56c4a634bcac",
   "metadata": {},
   "outputs": [
    {
     "data": {
      "text/plain": [
       "array([[ 1, -1],\n",
       "       [-1,  1]])"
      ]
     },
     "execution_count": 19,
     "metadata": {},
     "output_type": "execute_result"
    }
   ],
   "source": [
    "a = np.array([[1, -1]])\n",
    "np.matmul(a.transpose(), a)"
   ]
  },
  {
   "cell_type": "code",
   "execution_count": 46,
   "id": "81eebea7-1cf1-4054-be30-ca698cadc5db",
   "metadata": {},
   "outputs": [
    {
     "data": {
      "text/plain": [
       "array([[ 2],\n",
       "       [-2],\n",
       "       [-2],\n",
       "       [ 2]])"
      ]
     },
     "execution_count": 46,
     "metadata": {},
     "output_type": "execute_result"
    }
   ],
   "source": [
    "X1 = np.array([[1, -1, -1, 1]])\n",
    "\n",
    "W = np.matmul(X1.transpose(), X1)\n",
    "\n",
    "distorted = np.array([[1, 1, -1, 1]])\n",
    "\n",
    "np.matmul(W, distorted.transpose())"
   ]
  },
  {
   "cell_type": "code",
   "execution_count": null,
   "id": "3ecdaa3f-de8e-47a2-8bc1-59bdd125b3f8",
   "metadata": {},
   "outputs": [],
   "source": []
  }
 ],
 "metadata": {
  "kernelspec": {
   "display_name": "Python 3 (ipykernel)",
   "language": "python",
   "name": "python3"
  },
  "language_info": {
   "codemirror_mode": {
    "name": "ipython",
    "version": 3
   },
   "file_extension": ".py",
   "mimetype": "text/x-python",
   "name": "python",
   "nbconvert_exporter": "python",
   "pygments_lexer": "ipython3",
   "version": "3.9.13"
  }
 },
 "nbformat": 4,
 "nbformat_minor": 5
}
